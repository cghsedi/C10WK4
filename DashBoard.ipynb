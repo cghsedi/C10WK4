{
 "cells": [
  {
   "cell_type": "code",
   "execution_count": 1,
   "id": "947cc4de",
   "metadata": {
    "scrolled": true
   },
   "outputs": [],
   "source": [
    "#!pip install dash\n"
   ]
  },
  {
   "cell_type": "code",
   "execution_count": 2,
   "id": "1eb7887f",
   "metadata": {},
   "outputs": [],
   "source": [
    "import dash\n",
    "from dash import dcc\n",
    "from dash import html\n",
    "from dash.dependencies import Input, Output\n",
    "import plotly.express as px\n",
    "import pandas as pd\n"
   ]
  },
  {
   "cell_type": "code",
   "execution_count": 3,
   "id": "ce8bd9de",
   "metadata": {},
   "outputs": [],
   "source": [
    "#!pip install plotly --upgrade"
   ]
  },
  {
   "cell_type": "code",
   "execution_count": 4,
   "id": "78616855",
   "metadata": {},
   "outputs": [
    {
     "name": "stderr",
     "output_type": "stream",
     "text": [
      "  % Total    % Received % Xferd  Average Speed   Time    Time     Time  Current\n",
      "                                 Dload  Upload   Total   Spent    Left  Speed\n",
      "\n",
      "  0     0    0     0    0     0      0      0 --:--:-- --:--:-- --:--:--     0\n",
      "100  2476  100  2476    0     0   5513      0 --:--:-- --:--:-- --:--:--  5539\n"
     ]
    }
   ],
   "source": [
    "!curl -o spacex_launch_dash.csv \"https://cf-courses-data.s3.us.cloud-object-storage.appdomain.cloud/IBM-DS0321EN-SkillsNetwork/datasets/spacex_launch_dash.csv\"\n",
    "   "
   ]
  },
  {
   "cell_type": "code",
   "execution_count": 5,
   "id": "9a83d543",
   "metadata": {
    "scrolled": true
   },
   "outputs": [],
   "source": [
    "#!curl -o spacex_dash_app.py https://cf-courses-data.s3.us.cloud-object-storage.appdomain.cloud/IBM-DS0321EN-SkillsNetwork/labs/module_3/spacex_dash_app.py\n",
    "    "
   ]
  },
  {
   "cell_type": "code",
   "execution_count": 6,
   "id": "c1984d3e",
   "metadata": {},
   "outputs": [],
   "source": [
    "# Create a dash application\n",
    "app = dash.Dash(__name__)"
   ]
  },
  {
   "cell_type": "code",
   "execution_count": 7,
   "id": "24a2e1ac",
   "metadata": {},
   "outputs": [],
   "source": [
    "# TASK 1: Add a dropdown list to enable Launch Site selection\n",
    "# Get a list of unique launch sites\n",
    "\n",
    "#launch_sites = spacex_df['Launch Site'].unique().tolist()"
   ]
  },
  {
   "cell_type": "code",
   "execution_count": 8,
   "id": "3d3917d4",
   "metadata": {},
   "outputs": [],
   "source": [
    "spacex_df = pd.read_csv(\"spacex_launch_dash.csv\")\n",
    "max_payload = spacex_df['Payload Mass (kg)'].max()\n",
    "min_payload = spacex_df['Payload Mass (kg)'].min()\n",
    "#spacex_df.head()"
   ]
  },
  {
   "cell_type": "code",
   "execution_count": 9,
   "id": "3aa4687f",
   "metadata": {},
   "outputs": [],
   "source": [
    "# Correctly obtain unique launch sites\n",
    "launch_sites = spacex_df['Launch Site'].unique().tolist()\n",
    "\n",
    "# Correctly prepare the options for the dropdown\n",
    "options_list =[{'label': 'ALL', 'value': 'ALL'}] + [{'label': site, 'value': site} for site in launch_sites]\n"
   ]
  },
  {
   "cell_type": "code",
   "execution_count": 10,
   "id": "1a2788fc",
   "metadata": {},
   "outputs": [],
   "source": [
    "# TASK 2: Add a pie chart to show the total successful launches count for all sites\n",
    "# If a specific launch site was selected, show the Success vs. Failed counts for the site\n",
    "#                                 html.Div(dcc.Graph(id='success-pie-chart')),\n",
    "#                                 html.Br(),\n",
    "\n",
    "#                                 html.P(\"Payload range (Kg):\"),"
   ]
  },
  {
   "cell_type": "code",
   "execution_count": 11,
   "id": "e91c5df8",
   "metadata": {},
   "outputs": [],
   "source": [
    "app.layout = html.Div(children=[\n",
    "    html.H1(\n",
    "        'SpaceX Launch Records Dashboard',\n",
    "        style={'textAlign': 'center', 'color': '#503D36', 'font-size': 20}\n",
    "    ),\n",
    "    \n",
    "    # Dropdown container\n",
    "    html.Div([\n",
    "        dcc.Dropdown(\n",
    "            id='site-dropdown',\n",
    "            options=options_list,\n",
    "            value='ALL',\n",
    "            clearable=False,\n",
    "            searchable=True,\n",
    "            placeholder='Select a Launch Site',\n",
    "            style={'width': '100%'}\n",
    "        )\n",
    "    ], style={'width': '90%', 'margin': '5px auto'}),\n",
    "    \n",
    "    \n",
    "    # RangeSlider and its placeholder\n",
    "    dcc.RangeSlider(\n",
    "        id='payload-slider',\n",
    "        min=0,\n",
    "        max=10000,\n",
    "        step=1000,\n",
    "        marks={i: str(i) for i in range(0, 10000, 1000)},  # Custom marks at every 10 units\n",
    "        #marks={0: '0', 100: '100'},\n",
    "        value=[min_payload, max_payload]\n",
    "    ),\n",
    "    html.Div(id='slider-output'),  # Placeholder to display selected range\n",
    " \n",
    "    \n",
    "\n",
    "    # Pie chart container\n",
    "    html.Div([\n",
    "        dcc.Graph(id='success-pie-chart', style={'height': '280px'}),\n",
    "    ], style={'width': '90%', 'margin': '5px auto'}),\n",
    "\n",
    "    # Scatter plot container\n",
    "    html.Div([\n",
    "        dcc.Graph(id='success-payload-scatter-chart', style={'height': '280px'}),\n",
    "    ], style={'width': '90%', 'margin': '5px auto'}),\n",
    "\n",
    "], style={'maxWidth': '1200px', 'margin': '0 auto'})\n"
   ]
  },
  {
   "cell_type": "code",
   "execution_count": 12,
   "id": "fc3d3d19",
   "metadata": {},
   "outputs": [],
   "source": [
    "#print(options_list)"
   ]
  },
  {
   "cell_type": "code",
   "execution_count": null,
   "id": "f5684a36",
   "metadata": {},
   "outputs": [],
   "source": []
  },
  {
   "cell_type": "code",
   "execution_count": 13,
   "id": "c3b61f00",
   "metadata": {},
   "outputs": [],
   "source": [
    "#from dash.exceptions import PreventUpdate\n",
    "\n",
    "@app.callback(\n",
    "    Output('success-pie-chart', 'figure'),\n",
    "    [Input('site-dropdown', 'value')])\n",
    "\n",
    "def update_pie_chart(selected_site):\n",
    "    if selected_site == 'ALL':\n",
    "        # If 'ALL' sites are selected, show the total successful launches count for all sites\n",
    "        df_filtered = spacex_df.groupby('Launch Site')['class'].sum().reset_index()\n",
    "        figure = px.pie(df_filtered, names='Launch Site', values='class', title='Total Successful Launches by Site')\n",
    "    else:\n",
    "        # If a specific site is selected, show the Success vs. Failed counts for the site\n",
    "        df_filtered = spacex_df[spacex_df['Launch Site'] == selected_site]\n",
    "        status_counts = df_filtered['class'].value_counts().reset_index()\n",
    "        \n",
    "        # Rename the indices directly\n",
    "        status_counts['index'] = status_counts['index'].replace({0: 'Failed', 1: 'Successful'})\n",
    "        \n",
    "        figure = px.pie(status_counts, names='index', values='class',\n",
    "                     title=f'Success vs Failed Launches for {selected_site}')\n",
    "        print(status_counts['index'])\n",
    "    \n",
    "    return figure\n"
   ]
  },
  {
   "cell_type": "code",
   "execution_count": null,
   "id": "fdd865b5",
   "metadata": {},
   "outputs": [],
   "source": []
  },
  {
   "cell_type": "code",
   "execution_count": 14,
   "id": "793e797d",
   "metadata": {},
   "outputs": [],
   "source": [
    "# TASK 3: Add a slider to select payload range\n",
    "#dcc.RangeSlider(id='payload-slider',...)"
   ]
  },
  {
   "cell_type": "markdown",
   "id": "b0ac0c6a",
   "metadata": {},
   "source": [
    "Next, we want to find if variable payload is correlated to mission outcome. From a dashboard point of view, we\n",
    "want to be able to easily select different payload range and see if we can identify some visual patterns."
   ]
  },
  {
   "cell_type": "code",
   "execution_count": 15,
   "id": "25c74898",
   "metadata": {},
   "outputs": [],
   "source": [
    "#TASK 4: Add a callback function to render the success-payload-scatter-chart scatter plot\n"
   ]
  },
  {
   "cell_type": "markdown",
   "id": "6be82860",
   "metadata": {},
   "source": [
    "Next, we want to plot a scatter plot with the x axis to be the payload and the y axis to be the launch outcome (i.e., class column).\n",
    "As such, we can visually observe how payload may be correlated with mission outcomes for selected site(s).\n",
    "\n",
    "In addition, we want to color-label the Booster version on each scatter point so that we may\n",
    "observe mission outcomes with different boosters.\n",
    "\n",
    "Now, let’s add a call function including the following application logic:"
   ]
  },
  {
   "cell_type": "code",
   "execution_count": null,
   "id": "71bed090",
   "metadata": {},
   "outputs": [],
   "source": []
  },
  {
   "cell_type": "code",
   "execution_count": 16,
   "id": "93464d3e",
   "metadata": {},
   "outputs": [],
   "source": [
    "@app.callback(\n",
    "    Output('success-payload-scatter-chart', 'figure'),\n",
    "    [Input('site-dropdown', 'value'),\n",
    "     Input('payload-slider', 'value')]\n",
    ")\n",
    "\n",
    "def update_scatter_chart(selected_site, payload_range):\n",
    "    # Filter data based on selected site (if not 'ALL') and payload range\n",
    "    filtered_df = spacex_df[(spacex_df['Payload Mass (kg)'] >= payload_range[0]) & \n",
    "                            (spacex_df['Payload Mass (kg)'] <= payload_range[1])]\n",
    "    if selected_site != 'ALL':\n",
    "        filtered_df = filtered_df[filtered_df['Launch Site'] == selected_site]\n",
    "    \n",
    "    # Create scatter chart using plotly express\n",
    "    fig = px.scatter(filtered_df, \n",
    "                     x='Payload Mass (kg)', \n",
    "                     y='class', \n",
    "                     #color='class',  # This will give different colors for success and fail\n",
    "                     color=\"Booster Version Category\",\n",
    "                     labels={'class': 'Launch Success'}, \n",
    "                     title='Correlation between Payload and Launch Success')\n",
    "\n",
    "    # Adjust the y-axis labels (assuming 'class' column has 0 for fail and 1 for success)\n",
    "    fig.update_yaxes(tickvals=[0, 1], ticktext=['Fail', 'Success'])\n",
    "\n",
    "    return fig\n"
   ]
  },
  {
   "cell_type": "markdown",
   "id": "12f185d7",
   "metadata": {},
   "source": []
  },
  {
   "cell_type": "code",
   "execution_count": 17,
   "id": "65fd1fad",
   "metadata": {},
   "outputs": [
    {
     "data": {
      "text/html": [
       "\n",
       "        <iframe\n",
       "            width=\"100%\"\n",
       "            height=\"650\"\n",
       "            src=\"http://127.0.0.1:8050/\"\n",
       "            frameborder=\"0\"\n",
       "            allowfullscreen\n",
       "            \n",
       "        ></iframe>\n",
       "        "
      ],
      "text/plain": [
       "<IPython.lib.display.IFrame at 0x21c645e5240>"
      ]
     },
     "metadata": {},
     "output_type": "display_data"
    }
   ],
   "source": [
    "# Run the app\n",
    "if __name__ == '__main__':\n",
    "    app.run_server()\n"
   ]
  },
  {
   "cell_type": "code",
   "execution_count": null,
   "id": "4dd80e62",
   "metadata": {},
   "outputs": [],
   "source": []
  }
 ],
 "metadata": {
  "kernelspec": {
   "display_name": "Python 3 (ipykernel)",
   "language": "python",
   "name": "python3"
  },
  "language_info": {
   "codemirror_mode": {
    "name": "ipython",
    "version": 3
   },
   "file_extension": ".py",
   "mimetype": "text/x-python",
   "name": "python",
   "nbconvert_exporter": "python",
   "pygments_lexer": "ipython3",
   "version": "3.10.9"
  }
 },
 "nbformat": 4,
 "nbformat_minor": 5
}
